#This program made by Patrick J. McNaughton. Contact me at PatMcN300@outlook.com, gitHub: PatMcN7
#imports
from bs4 import BeautifulSoup
import time
import requests
import datetime
#declaring lists
mtplt_price = [] #list for tracking the price (y axis) in matplotlib.
mtplt_time = [] #list for tracking the time (x axis) in matplotlib.
dogecoin_price = str(dogecoin_price) 
sleep = input('How much time would you like between each ')
timer = input('How')

#scraping function
def dogecoin_price():
    now = str(datetime.datetime.now())
    #html request
    html_text = requests.get('https://coinmarketcap.com/currencies/dogecoin/',).text #Im fairly sure that you can use any coin on coinmarketcap.com you don't need to use dogecoin. For example, you could use the URL 'https://coinmarketcap.com/currencies/bitcoin/' and it would still work just this time scraping bitcoin or any other coin you want it to scrape.

    soup = BeautifulSoup(html_text, 'lxml')
    #searching the request for the price
    doge_price = soup.find('div', class_ = "priceValue___11gHJ").text.replace('$','')
    doge_price = str(doge_price)
    #these two lines are commented out to improve speed. They just print the time and price every time it is accessed.
    #print(doge_price) 
    #print(now)
    return doge_price
#while loop for how many times you want the price to be scraped
while not timer == 706:
    doge_price = dogecoin_price()
    doge_price = float(doge_price)
    mtplt_price.append(doge_price)
    mtplt_time.append(timer)
    print(timer)
    timer += 1
    time.sleep(60)
